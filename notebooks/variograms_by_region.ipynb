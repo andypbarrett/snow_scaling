{
 "cells": [
  {
   "cell_type": "code",
   "execution_count": 14,
   "metadata": {
    "collapsed": false,
    "jupyter": {
     "outputs_hidden": false
    }
   },
   "outputs": [
    {
     "name": "stdout",
     "output_type": "stream",
     "text": [
      "importing join from os.path on engine(s)\n",
      "importing rasterio on engine(s)\n",
      "importing mask from rasterio on engine(s)\n",
      "importing pyplot from matplotlib on engine(s)\n",
      "importing fiona on engine(s)\n",
      "importing numpy on engine(s)\n",
      "importing pickle on engine(s)\n",
      "importing dirname,exists,split from os.path on engine(s)\n",
      "importing os on engine(s)\n",
      "40\n"
     ]
    }
   ],
   "source": [
    "parallel = True\n",
    "home_dir = '/global/scratch/bolliger/tuolumne'\n",
    "\n",
    "# variogram params\n",
    "res = 3\n",
    "n_lags = 100\n",
    "max_dist = 1000\n",
    "pts_per_lag = 10000\n",
    "\n",
    "from sys import path\n",
    "path.append('../scripts')\n",
    "from ipyparallel import require\n",
    "\n",
    "# get mapping functions\n",
    "from utilities import get_apply_map_funcs, gather_files, Settings\n",
    "myapply, mymap, c, dview, lview = get_apply_map_funcs(parallel)\n",
    "\n",
    "with dview.sync_imports():\n",
    "    from os.path import join\n",
    "    import rasterio\n",
    "    from rasterio import mask\n",
    "    from matplotlib import pyplot as plt\n",
    "    import fiona\n",
    "    import numpy as np\n",
    "    import pickle\n",
    "    from os.path import dirname, exists, split\n",
    "    import os\n",
    "    \n",
    "dview.execute(\"\"\"\n",
    "plt = pyplot\n",
    "np = numpy\n",
    "\"\"\")\n",
    "\n",
    "# import project settings\n",
    "s = Settings(home_dir)\n",
    "s.local={}\n",
    "s.local['res'] = res\n",
    "s.local['n_lags'] = n_lags\n",
    "s.local['max_dist'] = max_dist\n",
    "s.local['pts_per_lag'] = pts_per_lag\n",
    "dview.push({'s_local':s.local})\n",
    "\n",
    "# double check number of engines\n",
    "if parallel:\n",
    "    print(len(c.ids))"
   ]
  },
  {
   "cell_type": "code",
   "execution_count": 15,
   "metadata": {
    "collapsed": true,
    "jupyter": {
     "outputs_hidden": true
    }
   },
   "outputs": [],
   "source": [
    "hs_fnames = [f for f in gather_files(join(s.data_dir,'1_resampled/global/snow_depth')) if '3m_orig3m' in f]\n",
    "\n",
    "hs_fname = join(s.data_dir,'1_resampled','global','snow_depth',\n",
    "                                  '2016','{}m_orig3m'.format(res),'20160326_snow_depth.tif')\n",
    "out_fnames = [join(home_dir,'results','regional_variograms',*f.split('/')[-4:]).replace(\n",
    "    '.tif','.pickle') for f in hs_fnames] \n",
    "\n",
    "shp_dir = join(s.data_dir,'raw','circular_regions')\n",
    "circles_fname = join(shp_dir,'sample_circles1km_hex_TB.shp')\n",
    "\n",
    "with fiona.open(circles_fname,'r') as shp:\n",
    "    circles = [feature[\"geometry\"] for feature in shp]\n",
    "    circle_ids = [feature['properties']['Unique_ID'] for feature in shp]"
   ]
  },
  {
   "cell_type": "code",
   "execution_count": 16,
   "metadata": {
    "collapsed": true,
    "jupyter": {
     "outputs_hidden": true
    }
   },
   "outputs": [],
   "source": [
    "def get_valid_vals(z,x,y,ndv,include_zeros=False):\n",
    "    valid_vals = z!=ndv\n",
    "    \n",
    "    if not include_zeros:\n",
    "        valid_vals = np.logical_and(valid_vals,z!=0)\n",
    "    \n",
    "    return valid_vals\n",
    "\n",
    "@require(get_valid_vals)\n",
    "def calc_variogram(raster,lags,pts_per_lag,res,ndv,circular_mask=True,include_zeros=False):\n",
    "\n",
    "    # estimate number of points needed based on points that fall outside of mask\n",
    "    if circular_mask:\n",
    "        pts_per_lag = (4 / np.pi) * pts_per_lag\n",
    "    \n",
    "    # estimate number of points needed based on number of zero vals\n",
    "    n_zero = (raster==0).sum()\n",
    "    n_total = (raster!=ndv).sum()\n",
    "    if n_zero == n_total:\n",
    "        return None,None,None\n",
    "    \n",
    "    if not include_zeros:\n",
    "        multiplier = n_total / (n_total - n_zero)\n",
    "        pts_per_lag = int(pts_per_lag * multiplier)\n",
    "    \n",
    "    # get sample points and directions to come up with pairs\n",
    "    range_x = raster.shape[1]\n",
    "    range_y = raster.shape[0]\n",
    "    x_sample_ix = np.random.randint(range_x, size = pts_per_lag)\n",
    "    y_sample_ix = np.random.randint(range_y, size = pts_per_lag)\n",
    "    \n",
    "    # get sample values for these initially selected points\n",
    "    sample_vals = raster[y_sample_ix,x_sample_ix]\n",
    "    \n",
    "    # ignore points outside of circle mask or zero snow depth\n",
    "    valid_sample = get_valid_vals(\n",
    "        sample_vals,x_sample_ix,y_sample_ix,ndv,include_zeros=include_zeros)\n",
    "    x_sample_ix = x_sample_ix[valid_sample]\n",
    "    y_sample_ix = y_sample_ix[valid_sample]\n",
    "    \n",
    "    n_pts = x_sample_ix.shape[0]\n",
    "    \n",
    "    # get random set of directions\n",
    "    dirs_sample = 2*np.pi*np.random.random(n_pts)\n",
    "\n",
    "    \n",
    "    ## loop through distances and estimate variance for pairs of that distance\n",
    "    var_mean = []\n",
    "    var_se = []\n",
    "    n_pts = []\n",
    "    for i,b in enumerate(lags):\n",
    "        \n",
    "        # distance in pixels\n",
    "        b_ix = b / res\n",
    "        \n",
    "        # find comparison point\n",
    "        x_compare_ix = (x_sample_ix + np.cos(dirs_sample) * b_ix).round().astype(int)\n",
    "        y_compare_ix = (y_sample_ix + np.sin(dirs_sample) * b_ix).round().astype(int)\n",
    "\n",
    "        # make sure we're not looking outside of the raster at all\n",
    "        within_extent = np.logical_and(np.logical_and((x_compare_ix >= 0),(x_compare_ix < range_x)),\n",
    "                                    np.logical_and((y_compare_ix >= 0),(y_compare_ix < range_y)))\n",
    "        x_sample_ix_tmp = x_sample_ix[within_extent]\n",
    "        y_sample_ix_tmp = y_sample_ix[within_extent]\n",
    "        x_compare_ix = x_compare_ix[within_extent]\n",
    "        y_compare_ix = y_compare_ix[within_extent]\n",
    "        \n",
    "        # make sure comparison point is not outside of circle\n",
    "        compare_vals = raster[y_compare_ix,x_compare_ix]\n",
    "        valid_compare = get_valid_vals(\n",
    "                compare_vals,x_compare_ix,y_compare_ix,ndv,include_zeros=include_zeros)\n",
    "        \n",
    "        x_compare_ix = x_compare_ix[valid_compare]\n",
    "        y_compare_ix = y_compare_ix[valid_compare]\n",
    "        x_sample_ix_tmp = x_sample_ix_tmp[valid_compare]\n",
    "        y_sample_ix_tmp = y_sample_ix_tmp[valid_compare]\n",
    "\n",
    "        vals_sample = raster[y_sample_ix_tmp,x_sample_ix_tmp]\n",
    "        vals_compare = raster[y_compare_ix,x_compare_ix]\n",
    "\n",
    "        sq_diffs = np.square(vals_compare - vals_sample)\n",
    "        var_mean.append(sq_diffs.mean())\n",
    "        var_se.append(sq_diffs.std(ddof=1) / np.sqrt(len(sq_diffs)))\n",
    "        n_pts.append(len(sq_diffs))\n",
    "\n",
    "    var_mean = np.array(var_mean)\n",
    "    var_se = np.array(var_se)\n",
    "    n_pts = np.array(n_pts)\n",
    "\n",
    "    return var_mean,var_se,n_pts"
   ]
  },
  {
   "cell_type": "code",
   "execution_count": 17,
   "metadata": {
    "collapsed": true,
    "jupyter": {
     "outputs_hidden": true
    }
   },
   "outputs": [],
   "source": [
    "@require(calc_variogram)\n",
    "def get_all_variograms(raster_fname,out_fname):\n",
    "    if not exists(dirname(out_fname)):\n",
    "        os.makedirs(dirname(out_fname),exist_ok=True)\n",
    "    \n",
    "    rast = rasterio.open(raster_fname)\n",
    "    \n",
    "    variogram_vals = {'mean':[],\n",
    "                 'se':[],\n",
    "                 'n_pts':[],\n",
    "                  'circle_ids':[],\n",
    "                 'lags':lags}\n",
    "\n",
    "    for ix,this_circ in enumerate(circles):\n",
    "        try:\n",
    "            out_image, out_transform = mask.mask(rast, [this_circ], crop=True)\n",
    "        # if non-overlapping circles and raster, skip this circle\n",
    "        except:\n",
    "            continue\n",
    "        var_mean,var_se,n_pts = calc_variogram(out_image[0],lags,s_local['pts_per_lag'],s_local['res'],ndv,\n",
    "                                               circular_mask=True,include_zeros=False)\n",
    "        if type(var_mean) != type(None):\n",
    "            variogram_vals['mean'].append(var_mean)\n",
    "            variogram_vals['se'].append(var_se)\n",
    "            variogram_vals['n_pts'].append(n_pts)\n",
    "            variogram_vals['circle_ids'].append(circle_ids[ix])\n",
    "\n",
    "    with open(out_fname,'wb') as f_out:\n",
    "        pickle.dump(variogram_vals,f_out)\n",
    "    \n",
    "    return None"
   ]
  },
  {
   "cell_type": "code",
   "execution_count": null,
   "metadata": {
    "collapsed": false,
    "jupyter": {
     "outputs_hidden": false
    },
    "scrolled": true
   },
   "outputs": [],
   "source": [
    "## generate bins\n",
    "min_dist = res\n",
    "lags = np.logspace(np.log10(min_dist),np.log10(max_dist),n_lags)\n",
    "\n",
    "dview.push({'circles':circles,\n",
    "           'circle_ids':circle_ids,\n",
    "           'lags':lags,\n",
    "           'ndv':s.ndv})\n",
    "\n",
    "n_files = len(hs_fnames)\n",
    "mymap(get_all_variograms,hs_fnames,out_fnames)"
   ]
  },
  {
   "cell_type": "code",
   "execution_count": null,
   "metadata": {
    "collapsed": true,
    "jupyter": {
     "outputs_hidden": true
    }
   },
   "outputs": [],
   "source": []
  }
 ],
 "metadata": {
  "kernelspec": {
   "display_name": "Python 3",
   "language": "python",
   "name": "python3"
  },
  "language_info": {
   "codemirror_mode": {
    "name": "ipython",
    "version": 3
   },
   "file_extension": ".py",
   "mimetype": "text/x-python",
   "name": "python",
   "nbconvert_exporter": "python",
   "pygments_lexer": "ipython3",
   "version": "3.7.6"
  }
 },
 "nbformat": 4,
 "nbformat_minor": 4
}
